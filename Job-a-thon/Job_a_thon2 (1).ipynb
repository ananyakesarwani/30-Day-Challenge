{
  "nbformat": 4,
  "nbformat_minor": 0,
  "metadata": {
    "kernelspec": {
      "display_name": "Python 3",
      "language": "python",
      "name": "python3"
    },
    "language_info": {
      "codemirror_mode": {
        "name": "ipython",
        "version": 3
      },
      "file_extension": ".py",
      "mimetype": "text/x-python",
      "name": "python",
      "nbconvert_exporter": "python",
      "pygments_lexer": "ipython3",
      "version": "3.7.6"
    },
    "colab": {
      "name": "Job-a-thon2.ipynb",
      "provenance": []
    }
  },
  "cells": [
    {
      "cell_type": "markdown",
      "metadata": {
        "id": "0wnWq5mRc9N-"
      },
      "source": [
        "<h1>1. Importing Python Packages and Datasets</h1>"
      ]
    },
    {
      "cell_type": "code",
      "metadata": {
        "id": "v1IjoICvc9OB"
      },
      "source": [
        "import numpy as np\n",
        "import pandas as pd\n",
        "import matplotlib.pyplot as plt\n",
        "import seaborn as sns\n",
        "sns.set(style=\"white\")\n",
        "sns.set(style=\"whitegrid\", color_codes=True)\n",
        "\n",
        "import warnings\n",
        "warnings.simplefilter(action='ignore')"
      ],
      "execution_count": 88,
      "outputs": []
    },
    {
      "cell_type": "code",
      "metadata": {
        "colab": {
          "base_uri": "https://localhost:8080/",
          "height": 365
        },
        "id": "Risc9E0Jc9OE",
        "outputId": "f5607fcc-06b1-4dbc-8955-e775e3611311"
      },
      "source": [
        "trainingDataset = pd.read_csv('train_s3TEQDk.csv')\n",
        "testDataset = pd.read_csv('test_mSzZ8RL.csv')\n",
        "trainingDataset.head(10)"
      ],
      "execution_count": 89,
      "outputs": [
        {
          "output_type": "execute_result",
          "data": {
            "text/html": [
              "<div>\n",
              "<style scoped>\n",
              "    .dataframe tbody tr th:only-of-type {\n",
              "        vertical-align: middle;\n",
              "    }\n",
              "\n",
              "    .dataframe tbody tr th {\n",
              "        vertical-align: top;\n",
              "    }\n",
              "\n",
              "    .dataframe thead th {\n",
              "        text-align: right;\n",
              "    }\n",
              "</style>\n",
              "<table border=\"1\" class=\"dataframe\">\n",
              "  <thead>\n",
              "    <tr style=\"text-align: right;\">\n",
              "      <th></th>\n",
              "      <th>ID</th>\n",
              "      <th>Gender</th>\n",
              "      <th>Age</th>\n",
              "      <th>Region_Code</th>\n",
              "      <th>Occupation</th>\n",
              "      <th>Channel_Code</th>\n",
              "      <th>Vintage</th>\n",
              "      <th>Credit_Product</th>\n",
              "      <th>Avg_Account_Balance</th>\n",
              "      <th>Is_Active</th>\n",
              "      <th>Is_Lead</th>\n",
              "    </tr>\n",
              "  </thead>\n",
              "  <tbody>\n",
              "    <tr>\n",
              "      <th>0</th>\n",
              "      <td>NNVBBKZB</td>\n",
              "      <td>Female</td>\n",
              "      <td>73</td>\n",
              "      <td>RG268</td>\n",
              "      <td>Other</td>\n",
              "      <td>X3</td>\n",
              "      <td>43</td>\n",
              "      <td>No</td>\n",
              "      <td>1045696</td>\n",
              "      <td>No</td>\n",
              "      <td>0</td>\n",
              "    </tr>\n",
              "    <tr>\n",
              "      <th>1</th>\n",
              "      <td>IDD62UNG</td>\n",
              "      <td>Female</td>\n",
              "      <td>30</td>\n",
              "      <td>RG277</td>\n",
              "      <td>Salaried</td>\n",
              "      <td>X1</td>\n",
              "      <td>32</td>\n",
              "      <td>No</td>\n",
              "      <td>581988</td>\n",
              "      <td>No</td>\n",
              "      <td>0</td>\n",
              "    </tr>\n",
              "    <tr>\n",
              "      <th>2</th>\n",
              "      <td>HD3DSEMC</td>\n",
              "      <td>Female</td>\n",
              "      <td>56</td>\n",
              "      <td>RG268</td>\n",
              "      <td>Self_Employed</td>\n",
              "      <td>X3</td>\n",
              "      <td>26</td>\n",
              "      <td>No</td>\n",
              "      <td>1484315</td>\n",
              "      <td>Yes</td>\n",
              "      <td>0</td>\n",
              "    </tr>\n",
              "    <tr>\n",
              "      <th>3</th>\n",
              "      <td>BF3NC7KV</td>\n",
              "      <td>Male</td>\n",
              "      <td>34</td>\n",
              "      <td>RG270</td>\n",
              "      <td>Salaried</td>\n",
              "      <td>X1</td>\n",
              "      <td>19</td>\n",
              "      <td>No</td>\n",
              "      <td>470454</td>\n",
              "      <td>No</td>\n",
              "      <td>0</td>\n",
              "    </tr>\n",
              "    <tr>\n",
              "      <th>4</th>\n",
              "      <td>TEASRWXV</td>\n",
              "      <td>Female</td>\n",
              "      <td>30</td>\n",
              "      <td>RG282</td>\n",
              "      <td>Salaried</td>\n",
              "      <td>X1</td>\n",
              "      <td>33</td>\n",
              "      <td>No</td>\n",
              "      <td>886787</td>\n",
              "      <td>No</td>\n",
              "      <td>0</td>\n",
              "    </tr>\n",
              "    <tr>\n",
              "      <th>5</th>\n",
              "      <td>ACUTYTWS</td>\n",
              "      <td>Male</td>\n",
              "      <td>56</td>\n",
              "      <td>RG261</td>\n",
              "      <td>Self_Employed</td>\n",
              "      <td>X1</td>\n",
              "      <td>32</td>\n",
              "      <td>No</td>\n",
              "      <td>544163</td>\n",
              "      <td>Yes</td>\n",
              "      <td>0</td>\n",
              "    </tr>\n",
              "    <tr>\n",
              "      <th>6</th>\n",
              "      <td>ETQCZFEJ</td>\n",
              "      <td>Male</td>\n",
              "      <td>62</td>\n",
              "      <td>RG282</td>\n",
              "      <td>Other</td>\n",
              "      <td>X3</td>\n",
              "      <td>20</td>\n",
              "      <td>NaN</td>\n",
              "      <td>1056750</td>\n",
              "      <td>Yes</td>\n",
              "      <td>1</td>\n",
              "    </tr>\n",
              "    <tr>\n",
              "      <th>7</th>\n",
              "      <td>JJNJUQMQ</td>\n",
              "      <td>Female</td>\n",
              "      <td>48</td>\n",
              "      <td>RG265</td>\n",
              "      <td>Self_Employed</td>\n",
              "      <td>X3</td>\n",
              "      <td>13</td>\n",
              "      <td>No</td>\n",
              "      <td>444724</td>\n",
              "      <td>Yes</td>\n",
              "      <td>0</td>\n",
              "    </tr>\n",
              "    <tr>\n",
              "      <th>8</th>\n",
              "      <td>ZMQFYKCB</td>\n",
              "      <td>Female</td>\n",
              "      <td>40</td>\n",
              "      <td>RG283</td>\n",
              "      <td>Self_Employed</td>\n",
              "      <td>X2</td>\n",
              "      <td>38</td>\n",
              "      <td>No</td>\n",
              "      <td>1274284</td>\n",
              "      <td>No</td>\n",
              "      <td>0</td>\n",
              "    </tr>\n",
              "    <tr>\n",
              "      <th>9</th>\n",
              "      <td>NVKTFBA2</td>\n",
              "      <td>Female</td>\n",
              "      <td>55</td>\n",
              "      <td>RG268</td>\n",
              "      <td>Self_Employed</td>\n",
              "      <td>X2</td>\n",
              "      <td>49</td>\n",
              "      <td>Yes</td>\n",
              "      <td>2014239</td>\n",
              "      <td>No</td>\n",
              "      <td>0</td>\n",
              "    </tr>\n",
              "  </tbody>\n",
              "</table>\n",
              "</div>"
            ],
            "text/plain": [
              "         ID  Gender  Age  ... Avg_Account_Balance Is_Active Is_Lead\n",
              "0  NNVBBKZB  Female   73  ...             1045696        No       0\n",
              "1  IDD62UNG  Female   30  ...              581988        No       0\n",
              "2  HD3DSEMC  Female   56  ...             1484315       Yes       0\n",
              "3  BF3NC7KV    Male   34  ...              470454        No       0\n",
              "4  TEASRWXV  Female   30  ...              886787        No       0\n",
              "5  ACUTYTWS    Male   56  ...              544163       Yes       0\n",
              "6  ETQCZFEJ    Male   62  ...             1056750       Yes       1\n",
              "7  JJNJUQMQ  Female   48  ...              444724       Yes       0\n",
              "8  ZMQFYKCB  Female   40  ...             1274284        No       0\n",
              "9  NVKTFBA2  Female   55  ...             2014239        No       0\n",
              "\n",
              "[10 rows x 11 columns]"
            ]
          },
          "metadata": {
            "tags": []
          },
          "execution_count": 89
        }
      ]
    },
    {
      "cell_type": "code",
      "metadata": {
        "colab": {
          "base_uri": "https://localhost:8080/",
          "height": 345
        },
        "id": "kwy8mfAZc9OF",
        "outputId": "55bdf18b-c911-45b4-b8f6-2d7d9f137859"
      },
      "source": [
        "testDataset.head(10)"
      ],
      "execution_count": 90,
      "outputs": [
        {
          "output_type": "execute_result",
          "data": {
            "text/html": [
              "<div>\n",
              "<style scoped>\n",
              "    .dataframe tbody tr th:only-of-type {\n",
              "        vertical-align: middle;\n",
              "    }\n",
              "\n",
              "    .dataframe tbody tr th {\n",
              "        vertical-align: top;\n",
              "    }\n",
              "\n",
              "    .dataframe thead th {\n",
              "        text-align: right;\n",
              "    }\n",
              "</style>\n",
              "<table border=\"1\" class=\"dataframe\">\n",
              "  <thead>\n",
              "    <tr style=\"text-align: right;\">\n",
              "      <th></th>\n",
              "      <th>ID</th>\n",
              "      <th>Gender</th>\n",
              "      <th>Age</th>\n",
              "      <th>Region_Code</th>\n",
              "      <th>Occupation</th>\n",
              "      <th>Channel_Code</th>\n",
              "      <th>Vintage</th>\n",
              "      <th>Credit_Product</th>\n",
              "      <th>Avg_Account_Balance</th>\n",
              "      <th>Is_Active</th>\n",
              "    </tr>\n",
              "  </thead>\n",
              "  <tbody>\n",
              "    <tr>\n",
              "      <th>0</th>\n",
              "      <td>VBENBARO</td>\n",
              "      <td>Male</td>\n",
              "      <td>29</td>\n",
              "      <td>RG254</td>\n",
              "      <td>Other</td>\n",
              "      <td>X1</td>\n",
              "      <td>25</td>\n",
              "      <td>Yes</td>\n",
              "      <td>742366</td>\n",
              "      <td>No</td>\n",
              "    </tr>\n",
              "    <tr>\n",
              "      <th>1</th>\n",
              "      <td>CCMEWNKY</td>\n",
              "      <td>Male</td>\n",
              "      <td>43</td>\n",
              "      <td>RG268</td>\n",
              "      <td>Other</td>\n",
              "      <td>X2</td>\n",
              "      <td>49</td>\n",
              "      <td>NaN</td>\n",
              "      <td>925537</td>\n",
              "      <td>No</td>\n",
              "    </tr>\n",
              "    <tr>\n",
              "      <th>2</th>\n",
              "      <td>VK3KGA9M</td>\n",
              "      <td>Male</td>\n",
              "      <td>31</td>\n",
              "      <td>RG270</td>\n",
              "      <td>Salaried</td>\n",
              "      <td>X1</td>\n",
              "      <td>14</td>\n",
              "      <td>No</td>\n",
              "      <td>215949</td>\n",
              "      <td>No</td>\n",
              "    </tr>\n",
              "    <tr>\n",
              "      <th>3</th>\n",
              "      <td>TT8RPZVC</td>\n",
              "      <td>Male</td>\n",
              "      <td>29</td>\n",
              "      <td>RG272</td>\n",
              "      <td>Other</td>\n",
              "      <td>X1</td>\n",
              "      <td>33</td>\n",
              "      <td>No</td>\n",
              "      <td>868070</td>\n",
              "      <td>No</td>\n",
              "    </tr>\n",
              "    <tr>\n",
              "      <th>4</th>\n",
              "      <td>SHQZEYTZ</td>\n",
              "      <td>Female</td>\n",
              "      <td>29</td>\n",
              "      <td>RG270</td>\n",
              "      <td>Other</td>\n",
              "      <td>X1</td>\n",
              "      <td>19</td>\n",
              "      <td>No</td>\n",
              "      <td>657087</td>\n",
              "      <td>No</td>\n",
              "    </tr>\n",
              "    <tr>\n",
              "      <th>5</th>\n",
              "      <td>MZZAQMPT</td>\n",
              "      <td>Male</td>\n",
              "      <td>60</td>\n",
              "      <td>RG268</td>\n",
              "      <td>Self_Employed</td>\n",
              "      <td>X3</td>\n",
              "      <td>110</td>\n",
              "      <td>No</td>\n",
              "      <td>4624262</td>\n",
              "      <td>No</td>\n",
              "    </tr>\n",
              "    <tr>\n",
              "      <th>6</th>\n",
              "      <td>Y88TW36I</td>\n",
              "      <td>Female</td>\n",
              "      <td>69</td>\n",
              "      <td>RG253</td>\n",
              "      <td>Other</td>\n",
              "      <td>X2</td>\n",
              "      <td>67</td>\n",
              "      <td>No</td>\n",
              "      <td>1032764</td>\n",
              "      <td>No</td>\n",
              "    </tr>\n",
              "    <tr>\n",
              "      <th>7</th>\n",
              "      <td>3UGOAQNU</td>\n",
              "      <td>Female</td>\n",
              "      <td>30</td>\n",
              "      <td>RG257</td>\n",
              "      <td>Salaried</td>\n",
              "      <td>X1</td>\n",
              "      <td>33</td>\n",
              "      <td>No</td>\n",
              "      <td>837009</td>\n",
              "      <td>No</td>\n",
              "    </tr>\n",
              "    <tr>\n",
              "      <th>8</th>\n",
              "      <td>VVUKMUJT</td>\n",
              "      <td>Male</td>\n",
              "      <td>43</td>\n",
              "      <td>RG284</td>\n",
              "      <td>Salaried</td>\n",
              "      <td>X3</td>\n",
              "      <td>81</td>\n",
              "      <td>NaN</td>\n",
              "      <td>1001232</td>\n",
              "      <td>Yes</td>\n",
              "    </tr>\n",
              "    <tr>\n",
              "      <th>9</th>\n",
              "      <td>9R363ZXS</td>\n",
              "      <td>Female</td>\n",
              "      <td>54</td>\n",
              "      <td>RG283</td>\n",
              "      <td>Self_Employed</td>\n",
              "      <td>X2</td>\n",
              "      <td>37</td>\n",
              "      <td>Yes</td>\n",
              "      <td>1667851</td>\n",
              "      <td>No</td>\n",
              "    </tr>\n",
              "  </tbody>\n",
              "</table>\n",
              "</div>"
            ],
            "text/plain": [
              "         ID  Gender  Age  ... Credit_Product Avg_Account_Balance Is_Active\n",
              "0  VBENBARO    Male   29  ...            Yes              742366        No\n",
              "1  CCMEWNKY    Male   43  ...            NaN              925537        No\n",
              "2  VK3KGA9M    Male   31  ...             No              215949        No\n",
              "3  TT8RPZVC    Male   29  ...             No              868070        No\n",
              "4  SHQZEYTZ  Female   29  ...             No              657087        No\n",
              "5  MZZAQMPT    Male   60  ...             No             4624262        No\n",
              "6  Y88TW36I  Female   69  ...             No             1032764        No\n",
              "7  3UGOAQNU  Female   30  ...             No              837009        No\n",
              "8  VVUKMUJT    Male   43  ...            NaN             1001232       Yes\n",
              "9  9R363ZXS  Female   54  ...            Yes             1667851        No\n",
              "\n",
              "[10 rows x 10 columns]"
            ]
          },
          "metadata": {
            "tags": []
          },
          "execution_count": 90
        }
      ]
    },
    {
      "cell_type": "markdown",
      "metadata": {
        "id": "BEoPoNaUc9OF"
      },
      "source": [
        "<h1>2. Missing Values and Data Pre-processing</h1>\n"
      ]
    },
    {
      "cell_type": "code",
      "metadata": {
        "colab": {
          "base_uri": "https://localhost:8080/"
        },
        "id": "dYNfc_hoc9OF",
        "outputId": "9af87408-c903-4597-b9ff-04ca55a586bf"
      },
      "source": [
        "trainingDataset.isnull().sum()   #Getting number of null values for each column"
      ],
      "execution_count": 91,
      "outputs": [
        {
          "output_type": "execute_result",
          "data": {
            "text/plain": [
              "ID                         0\n",
              "Gender                     0\n",
              "Age                        0\n",
              "Region_Code                0\n",
              "Occupation                 0\n",
              "Channel_Code               0\n",
              "Vintage                    0\n",
              "Credit_Product         29325\n",
              "Avg_Account_Balance        0\n",
              "Is_Active                  0\n",
              "Is_Lead                    0\n",
              "dtype: int64"
            ]
          },
          "metadata": {
            "tags": []
          },
          "execution_count": 91
        }
      ]
    },
    {
      "cell_type": "markdown",
      "metadata": {
        "id": "KzpqNZ6Mc9OG"
      },
      "source": [
        "<h1>3. Adjusting Data</h1>"
      ]
    },
    {
      "cell_type": "markdown",
      "metadata": {
        "id": "Hz9uWMvnc9OG"
      },
      "source": [
        "<p> 1. Filling the 'Credit_Product' field using Interpolation method of 'ForwardFill', so as to reduce the biasing towards \n",
        "        most frequent category i.e 'No'<p>\n",
        "<p> 2. Dropping the column 'Region_Code' and 'ID' because less Relevance on classification<p>"
      ]
    },
    {
      "cell_type": "code",
      "metadata": {
        "id": "V-iRRu60c9OG"
      },
      "source": [
        "trainingDataset=trainingDataset.fillna(method = 'ffill')\n",
        "trainingDataset.drop('Region_Code', axis=1, inplace = True)\n",
        "trainingDataset.drop('ID', axis=1, inplace=True)"
      ],
      "execution_count": 92,
      "outputs": []
    },
    {
      "cell_type": "code",
      "metadata": {
        "colab": {
          "base_uri": "https://localhost:8080/",
          "height": 285
        },
        "id": "adSunI9dc9OG",
        "outputId": "aefa6b59-5c96-4a7d-82a3-4cf5cc9195ca"
      },
      "source": [
        "sns.countplot(\"Is_Lead\", hue = 'Gender', data = trainingDataset)\n",
        "plt.show()"
      ],
      "execution_count": 74,
      "outputs": [
        {
          "output_type": "display_data",
          "data": {
            "image/png": "[encoded data removed]",
            "text/plain": [
              "<Figure size 432x288 with 1 Axes>"
            ]
          },
          "metadata": {
            "tags": []
          }
        }
      ]
    },
    {
      "cell_type": "markdown",
      "metadata": {
        "id": "YxyFO7Uqc9OH"
      },
      "source": [
        "This graph shows that the ratio of male to female of being interested or not interested remains almost same. But still a male customer shows more interest in taking a credit card"
      ]
    },
    {
      "cell_type": "code",
      "metadata": {
        "colab": {
          "base_uri": "https://localhost:8080/",
          "height": 285
        },
        "id": "8YuJaDtvc9OH",
        "outputId": "5c0d6608-6f5f-4623-cbd7-4ecc8a02f497"
      },
      "source": [
        "sns.countplot(\"Is_Lead\", hue = 'Occupation', data = trainingDataset)\n",
        "plt.show()"
      ],
      "execution_count": 7,
      "outputs": [
        {
          "output_type": "display_data",
          "data": {
            "image/png": "[encoded data removed]",
            "text/plain": [
              "<Figure size 432x288 with 1 Axes>"
            ]
          },
          "metadata": {
            "tags": [],
            "needs_background": "light"
          }
        }
      ]
    },
    {
      "cell_type": "markdown",
      "metadata": {
        "id": "qqo03rAmc9OH"
      },
      "source": [
        "This graph clearly shows that Entrepreneurs are more likely to take a credit card and Salaried are least expected to"
      ]
    },
    {
      "cell_type": "code",
      "metadata": {
        "colab": {
          "base_uri": "https://localhost:8080/",
          "height": 285
        },
        "id": "RTYGCeShc9OH",
        "outputId": "b46c9c20-330e-44c2-9f8e-a498bc153c0c"
      },
      "source": [
        "sns.countplot(\"Is_Lead\", hue = 'Channel_Code', data = trainingDataset)\n",
        "plt.show()"
      ],
      "execution_count": 8,
      "outputs": [
        {
          "output_type": "display_data",
          "data": {
            "image/png": "[encoded data removed]",
            "text/plain": [
              "<Figure size 432x288 with 1 Axes>"
            ]
          },
          "metadata": {
            "tags": [],
            "needs_background": "light"
          }
        }
      ]
    },
    {
      "cell_type": "markdown",
      "metadata": {
        "id": "63Bfzb-zc9OI"
      },
      "source": [
        "Its evident from this graph that X1 channel_Code are not interested in credit card whereas X3 code shows a lot of interested"
      ]
    },
    {
      "cell_type": "code",
      "metadata": {
        "colab": {
          "base_uri": "https://localhost:8080/",
          "height": 285
        },
        "id": "-BJwu68Wc9OI",
        "outputId": "27318fc6-3de5-4601-9f24-5809d79cd3d5"
      },
      "source": [
        "sns.countplot(\"Is_Lead\", hue = 'Credit_Product', data = trainingDataset)\n",
        "plt.show()"
      ],
      "execution_count": 9,
      "outputs": [
        {
          "output_type": "display_data",
          "data": {
            "image/png": "[encoded data removed]",
            "text/plain": [
              "<Figure size 432x288 with 1 Axes>"
            ]
          },
          "metadata": {
            "tags": [],
            "needs_background": "light"
          }
        }
      ]
    },
    {
      "cell_type": "markdown",
      "metadata": {
        "id": "Yh80VIEAc9OI"
      },
      "source": [
        "This graph tells that Customers with no Credit Product are not much interested in taking a credit card"
      ]
    },
    {
      "cell_type": "code",
      "metadata": {
        "colab": {
          "base_uri": "https://localhost:8080/",
          "height": 285
        },
        "id": "pzDDlje3c9OI",
        "outputId": "105ef651-3754-4be8-af42-bb4d2ccfaf2e"
      },
      "source": [
        "sns.countplot(\"Is_Lead\", hue = 'Is_Active', data = trainingDataset)\n",
        "plt.show()"
      ],
      "execution_count": 10,
      "outputs": [
        {
          "output_type": "display_data",
          "data": {
            "image/png": "[encoded data removed]",
            "text/plain": [
              "<Figure size 432x288 with 1 Axes>"
            ]
          },
          "metadata": {
            "tags": [],
            "needs_background": "light"
          }
        }
      ]
    },
    {
      "cell_type": "markdown",
      "metadata": {
        "id": "ESjcQAEpc9OJ"
      },
      "source": [
        "The customers with No Is_Lead value are more susceptible to not take a credit card "
      ]
    },
    {
      "cell_type": "code",
      "metadata": {
        "colab": {
          "base_uri": "https://localhost:8080/",
          "height": 196
        },
        "id": "HEPnhtq1c9OJ",
        "outputId": "f4586bff-89a7-4984-9d68-daaeea7a61fd"
      },
      "source": [
        "from sklearn.preprocessing import LabelEncoder\n",
        "le = LabelEncoder()\n",
        "train_data = trainingDataset.copy()\n",
        "train_data['Gender'] = le.fit_transform(train_data['Gender'])\n",
        "train_data['Credit_Product'] = le.fit_transform(train_data['Credit_Product'])\n",
        "train_data['Is_Active'] = le.fit_transform(train_data['Is_Active'])\n",
        "change = {'Other':1,'Self_Employed':2,'Entrepreneur':3,'Salaried':0}\n",
        "train_data.Occupation = train_data.Occupation.map(change)\n",
        "change = {'X1':1,'X2':2,'X3':3,'X4':0}\n",
        "train_data.Channel_Code = train_data.Channel_Code.map(change)\n",
        "train_data.head()"
      ],
      "execution_count": 93,
      "outputs": [
        {
          "output_type": "execute_result",
          "data": {
            "text/html": [
              "<div>\n",
              "<style scoped>\n",
              "    .dataframe tbody tr th:only-of-type {\n",
              "        vertical-align: middle;\n",
              "    }\n",
              "\n",
              "    .dataframe tbody tr th {\n",
              "        vertical-align: top;\n",
              "    }\n",
              "\n",
              "    .dataframe thead th {\n",
              "        text-align: right;\n",
              "    }\n",
              "</style>\n",
              "<table border=\"1\" class=\"dataframe\">\n",
              "  <thead>\n",
              "    <tr style=\"text-align: right;\">\n",
              "      <th></th>\n",
              "      <th>Gender</th>\n",
              "      <th>Age</th>\n",
              "      <th>Occupation</th>\n",
              "      <th>Channel_Code</th>\n",
              "      <th>Vintage</th>\n",
              "      <th>Credit_Product</th>\n",
              "      <th>Avg_Account_Balance</th>\n",
              "      <th>Is_Active</th>\n",
              "      <th>Is_Lead</th>\n",
              "    </tr>\n",
              "  </thead>\n",
              "  <tbody>\n",
              "    <tr>\n",
              "      <th>0</th>\n",
              "      <td>0</td>\n",
              "      <td>73</td>\n",
              "      <td>1</td>\n",
              "      <td>3</td>\n",
              "      <td>43</td>\n",
              "      <td>0</td>\n",
              "      <td>1045696</td>\n",
              "      <td>0</td>\n",
              "      <td>0</td>\n",
              "    </tr>\n",
              "    <tr>\n",
              "      <th>1</th>\n",
              "      <td>0</td>\n",
              "      <td>30</td>\n",
              "      <td>0</td>\n",
              "      <td>1</td>\n",
              "      <td>32</td>\n",
              "      <td>0</td>\n",
              "      <td>581988</td>\n",
              "      <td>0</td>\n",
              "      <td>0</td>\n",
              "    </tr>\n",
              "    <tr>\n",
              "      <th>2</th>\n",
              "      <td>0</td>\n",
              "      <td>56</td>\n",
              "      <td>2</td>\n",
              "      <td>3</td>\n",
              "      <td>26</td>\n",
              "      <td>0</td>\n",
              "      <td>1484315</td>\n",
              "      <td>1</td>\n",
              "      <td>0</td>\n",
              "    </tr>\n",
              "    <tr>\n",
              "      <th>3</th>\n",
              "      <td>1</td>\n",
              "      <td>34</td>\n",
              "      <td>0</td>\n",
              "      <td>1</td>\n",
              "      <td>19</td>\n",
              "      <td>0</td>\n",
              "      <td>470454</td>\n",
              "      <td>0</td>\n",
              "      <td>0</td>\n",
              "    </tr>\n",
              "    <tr>\n",
              "      <th>4</th>\n",
              "      <td>0</td>\n",
              "      <td>30</td>\n",
              "      <td>0</td>\n",
              "      <td>1</td>\n",
              "      <td>33</td>\n",
              "      <td>0</td>\n",
              "      <td>886787</td>\n",
              "      <td>0</td>\n",
              "      <td>0</td>\n",
              "    </tr>\n",
              "  </tbody>\n",
              "</table>\n",
              "</div>"
            ],
            "text/plain": [
              "   Gender  Age  Occupation  ...  Avg_Account_Balance  Is_Active  Is_Lead\n",
              "0       0   73           1  ...              1045696          0        0\n",
              "1       0   30           0  ...               581988          0        0\n",
              "2       0   56           2  ...              1484315          1        0\n",
              "3       1   34           0  ...               470454          0        0\n",
              "4       0   30           0  ...               886787          0        0\n",
              "\n",
              "[5 rows x 9 columns]"
            ]
          },
          "metadata": {
            "tags": []
          },
          "execution_count": 93
        }
      ]
    },
    {
      "cell_type": "code",
      "metadata": {
        "colab": {
          "base_uri": "https://localhost:8080/",
          "height": 285
        },
        "id": "-pytRoIac9OJ",
        "outputId": "f5b4f9e9-b586-4b6c-c1e4-ebd8a3c54307"
      },
      "source": [
        "interval = 20\n",
        "\n",
        "plt.hist(train_data.Age, bins = 4)\n",
        "plt.xlabel(\"Age\")\n",
        "plt.ylabel(\"Number\")\n",
        "plt.show()"
      ],
      "execution_count": 12,
      "outputs": [
        {
          "output_type": "display_data",
          "data": {
            "image/png": "[encoded data removed]",
            "text/plain": [
              "<Figure size 432x288 with 1 Axes>"
            ]
          },
          "metadata": {
            "tags": [],
            "needs_background": "light"
          }
        }
      ]
    },
    {
      "cell_type": "markdown",
      "metadata": {
        "id": "5w5q34pSc9OJ"
      },
      "source": [
        "This shows that a lot of customers are aged in 23 to 30 and 40 to 50\n"
      ]
    },
    {
      "cell_type": "code",
      "metadata": {
        "colab": {
          "base_uri": "https://localhost:8080/",
          "height": 285
        },
        "id": "5Vc1BHeSc9OJ",
        "outputId": "8103015d-ea36-4de3-a24a-c464628895e0"
      },
      "source": [
        "interval = 40\n",
        "value_for_bin = np.ceil((train_data.Vintage.max() - train_data.Vintage.min()) / interval).astype(int)\n",
        "\n",
        "plt.hist(train_data.Vintage, bins = value_for_bin)\n",
        "plt.xlabel(\"Vintage\")\n",
        "plt.ylabel(\"Number\")\n",
        "plt.show()"
      ],
      "execution_count": 13,
      "outputs": [
        {
          "output_type": "display_data",
          "data": {
            "image/png": "[encoded data removed]",
            "text/plain": [
              "<Figure size 432x288 with 1 Axes>"
            ]
          },
          "metadata": {
            "tags": [],
            "needs_background": "light"
          }
        }
      ]
    },
    {
      "cell_type": "code",
      "metadata": {
        "colab": {
          "base_uri": "https://localhost:8080/",
          "height": 196
        },
        "id": "pSvwcxbPc9OK",
        "outputId": "41db6c47-045e-46ae-f2f5-7a226092e324"
      },
      "source": [
        "bins = [20, 38, 54, 70, 90]\n",
        "labels = [0,1,2,3]\n",
        "train_data['Age'] = pd.cut(train_data['Age'], bins=bins, labels=labels)\n",
        "train_data.head()"
      ],
      "execution_count": 94,
      "outputs": [
        {
          "output_type": "execute_result",
          "data": {
            "text/html": [
              "<div>\n",
              "<style scoped>\n",
              "    .dataframe tbody tr th:only-of-type {\n",
              "        vertical-align: middle;\n",
              "    }\n",
              "\n",
              "    .dataframe tbody tr th {\n",
              "        vertical-align: top;\n",
              "    }\n",
              "\n",
              "    .dataframe thead th {\n",
              "        text-align: right;\n",
              "    }\n",
              "</style>\n",
              "<table border=\"1\" class=\"dataframe\">\n",
              "  <thead>\n",
              "    <tr style=\"text-align: right;\">\n",
              "      <th></th>\n",
              "      <th>Gender</th>\n",
              "      <th>Age</th>\n",
              "      <th>Occupation</th>\n",
              "      <th>Channel_Code</th>\n",
              "      <th>Vintage</th>\n",
              "      <th>Credit_Product</th>\n",
              "      <th>Avg_Account_Balance</th>\n",
              "      <th>Is_Active</th>\n",
              "      <th>Is_Lead</th>\n",
              "    </tr>\n",
              "  </thead>\n",
              "  <tbody>\n",
              "    <tr>\n",
              "      <th>0</th>\n",
              "      <td>0</td>\n",
              "      <td>3</td>\n",
              "      <td>1</td>\n",
              "      <td>3</td>\n",
              "      <td>43</td>\n",
              "      <td>0</td>\n",
              "      <td>1045696</td>\n",
              "      <td>0</td>\n",
              "      <td>0</td>\n",
              "    </tr>\n",
              "    <tr>\n",
              "      <th>1</th>\n",
              "      <td>0</td>\n",
              "      <td>0</td>\n",
              "      <td>0</td>\n",
              "      <td>1</td>\n",
              "      <td>32</td>\n",
              "      <td>0</td>\n",
              "      <td>581988</td>\n",
              "      <td>0</td>\n",
              "      <td>0</td>\n",
              "    </tr>\n",
              "    <tr>\n",
              "      <th>2</th>\n",
              "      <td>0</td>\n",
              "      <td>2</td>\n",
              "      <td>2</td>\n",
              "      <td>3</td>\n",
              "      <td>26</td>\n",
              "      <td>0</td>\n",
              "      <td>1484315</td>\n",
              "      <td>1</td>\n",
              "      <td>0</td>\n",
              "    </tr>\n",
              "    <tr>\n",
              "      <th>3</th>\n",
              "      <td>1</td>\n",
              "      <td>0</td>\n",
              "      <td>0</td>\n",
              "      <td>1</td>\n",
              "      <td>19</td>\n",
              "      <td>0</td>\n",
              "      <td>470454</td>\n",
              "      <td>0</td>\n",
              "      <td>0</td>\n",
              "    </tr>\n",
              "    <tr>\n",
              "      <th>4</th>\n",
              "      <td>0</td>\n",
              "      <td>0</td>\n",
              "      <td>0</td>\n",
              "      <td>1</td>\n",
              "      <td>33</td>\n",
              "      <td>0</td>\n",
              "      <td>886787</td>\n",
              "      <td>0</td>\n",
              "      <td>0</td>\n",
              "    </tr>\n",
              "  </tbody>\n",
              "</table>\n",
              "</div>"
            ],
            "text/plain": [
              "   Gender Age  Occupation  ...  Avg_Account_Balance  Is_Active  Is_Lead\n",
              "0       0   3           1  ...              1045696          0        0\n",
              "1       0   0           0  ...               581988          0        0\n",
              "2       0   2           2  ...              1484315          1        0\n",
              "3       1   0           0  ...               470454          0        0\n",
              "4       0   0           0  ...               886787          0        0\n",
              "\n",
              "[5 rows x 9 columns]"
            ]
          },
          "metadata": {
            "tags": []
          },
          "execution_count": 94
        }
      ]
    },
    {
      "cell_type": "code",
      "metadata": {
        "colab": {
          "base_uri": "https://localhost:8080/",
          "height": 196
        },
        "id": "_AIKcgMyc9OK",
        "outputId": "b0a24081-2e50-45e8-985f-1285a72593c0"
      },
      "source": [
        "bins = [0, 40, 65, 110, 150]\n",
        "labels = [0,1,2,3]\n",
        "train_data['Vintage'] = pd.cut(train_data['Vintage'], bins=bins, labels=labels)\n",
        "train_data.head()"
      ],
      "execution_count": 95,
      "outputs": [
        {
          "output_type": "execute_result",
          "data": {
            "text/html": [
              "<div>\n",
              "<style scoped>\n",
              "    .dataframe tbody tr th:only-of-type {\n",
              "        vertical-align: middle;\n",
              "    }\n",
              "\n",
              "    .dataframe tbody tr th {\n",
              "        vertical-align: top;\n",
              "    }\n",
              "\n",
              "    .dataframe thead th {\n",
              "        text-align: right;\n",
              "    }\n",
              "</style>\n",
              "<table border=\"1\" class=\"dataframe\">\n",
              "  <thead>\n",
              "    <tr style=\"text-align: right;\">\n",
              "      <th></th>\n",
              "      <th>Gender</th>\n",
              "      <th>Age</th>\n",
              "      <th>Occupation</th>\n",
              "      <th>Channel_Code</th>\n",
              "      <th>Vintage</th>\n",
              "      <th>Credit_Product</th>\n",
              "      <th>Avg_Account_Balance</th>\n",
              "      <th>Is_Active</th>\n",
              "      <th>Is_Lead</th>\n",
              "    </tr>\n",
              "  </thead>\n",
              "  <tbody>\n",
              "    <tr>\n",
              "      <th>0</th>\n",
              "      <td>0</td>\n",
              "      <td>3</td>\n",
              "      <td>1</td>\n",
              "      <td>3</td>\n",
              "      <td>1</td>\n",
              "      <td>0</td>\n",
              "      <td>1045696</td>\n",
              "      <td>0</td>\n",
              "      <td>0</td>\n",
              "    </tr>\n",
              "    <tr>\n",
              "      <th>1</th>\n",
              "      <td>0</td>\n",
              "      <td>0</td>\n",
              "      <td>0</td>\n",
              "      <td>1</td>\n",
              "      <td>0</td>\n",
              "      <td>0</td>\n",
              "      <td>581988</td>\n",
              "      <td>0</td>\n",
              "      <td>0</td>\n",
              "    </tr>\n",
              "    <tr>\n",
              "      <th>2</th>\n",
              "      <td>0</td>\n",
              "      <td>2</td>\n",
              "      <td>2</td>\n",
              "      <td>3</td>\n",
              "      <td>0</td>\n",
              "      <td>0</td>\n",
              "      <td>1484315</td>\n",
              "      <td>1</td>\n",
              "      <td>0</td>\n",
              "    </tr>\n",
              "    <tr>\n",
              "      <th>3</th>\n",
              "      <td>1</td>\n",
              "      <td>0</td>\n",
              "      <td>0</td>\n",
              "      <td>1</td>\n",
              "      <td>0</td>\n",
              "      <td>0</td>\n",
              "      <td>470454</td>\n",
              "      <td>0</td>\n",
              "      <td>0</td>\n",
              "    </tr>\n",
              "    <tr>\n",
              "      <th>4</th>\n",
              "      <td>0</td>\n",
              "      <td>0</td>\n",
              "      <td>0</td>\n",
              "      <td>1</td>\n",
              "      <td>0</td>\n",
              "      <td>0</td>\n",
              "      <td>886787</td>\n",
              "      <td>0</td>\n",
              "      <td>0</td>\n",
              "    </tr>\n",
              "  </tbody>\n",
              "</table>\n",
              "</div>"
            ],
            "text/plain": [
              "   Gender Age  Occupation  ...  Avg_Account_Balance Is_Active  Is_Lead\n",
              "0       0   3           1  ...              1045696         0        0\n",
              "1       0   0           0  ...               581988         0        0\n",
              "2       0   2           2  ...              1484315         1        0\n",
              "3       1   0           0  ...               470454         0        0\n",
              "4       0   0           0  ...               886787         0        0\n",
              "\n",
              "[5 rows x 9 columns]"
            ]
          },
          "metadata": {
            "tags": []
          },
          "execution_count": 95
        }
      ]
    },
    {
      "cell_type": "code",
      "metadata": {
        "colab": {
          "base_uri": "https://localhost:8080/",
          "height": 288
        },
        "id": "WOyoW3Mwc9OK",
        "outputId": "12a0c71a-508e-448f-9da4-15b0ffaea9cf"
      },
      "source": [
        "interval = 1000000\n",
        "value_for_bin = np.ceil((train_data.Avg_Account_Balance.max() - train_data.Avg_Account_Balance.min()) / interval).astype(int)\n",
        "\n",
        "plt.hist(train_data.Avg_Account_Balance, bins = value_for_bin)\n",
        "plt.xlabel(\"Avg_Account_Balance\")\n",
        "plt.ylabel(\"Number\")\n",
        "plt.show()"
      ],
      "execution_count": 78,
      "outputs": [
        {
          "output_type": "display_data",
          "data": {
            "image/png": "[encoded data removed]",
            "text/plain": [
              "<Figure size 432x288 with 1 Axes>"
            ]
          },
          "metadata": {
            "tags": []
          }
        }
      ]
    },
    {
      "cell_type": "code",
      "metadata": {
        "id": "UNgGNJbAc9OL",
        "outputId": "ca213930-976c-4c70-c557-0739023491c9"
      },
      "source": [
        "train_data.Vintage.max()"
      ],
      "execution_count": null,
      "outputs": [
        {
          "output_type": "execute_result",
          "data": {
            "text/plain": [
              "3"
            ]
          },
          "metadata": {
            "tags": []
          },
          "execution_count": 25
        }
      ]
    },
    {
      "cell_type": "code",
      "metadata": {
        "colab": {
          "base_uri": "https://localhost:8080/",
          "height": 196
        },
        "id": "UeELmxt_c9OL",
        "outputId": "6674192f-7e23-4716-d26f-ad14e0f53bcb"
      },
      "source": [
        "bins = [0, 1000000, 2000000, 3000000, 20000000]\n",
        "labels = [0,1,2,3]\n",
        "train_data['Avg_Account_Balance'] = pd.cut(train_data['Avg_Account_Balance'], bins=bins, labels=labels)\n",
        "train_data.head()"
      ],
      "execution_count": 96,
      "outputs": [
        {
          "output_type": "execute_result",
          "data": {
            "text/html": [
              "<div>\n",
              "<style scoped>\n",
              "    .dataframe tbody tr th:only-of-type {\n",
              "        vertical-align: middle;\n",
              "    }\n",
              "\n",
              "    .dataframe tbody tr th {\n",
              "        vertical-align: top;\n",
              "    }\n",
              "\n",
              "    .dataframe thead th {\n",
              "        text-align: right;\n",
              "    }\n",
              "</style>\n",
              "<table border=\"1\" class=\"dataframe\">\n",
              "  <thead>\n",
              "    <tr style=\"text-align: right;\">\n",
              "      <th></th>\n",
              "      <th>Gender</th>\n",
              "      <th>Age</th>\n",
              "      <th>Occupation</th>\n",
              "      <th>Channel_Code</th>\n",
              "      <th>Vintage</th>\n",
              "      <th>Credit_Product</th>\n",
              "      <th>Avg_Account_Balance</th>\n",
              "      <th>Is_Active</th>\n",
              "      <th>Is_Lead</th>\n",
              "    </tr>\n",
              "  </thead>\n",
              "  <tbody>\n",
              "    <tr>\n",
              "      <th>0</th>\n",
              "      <td>0</td>\n",
              "      <td>3</td>\n",
              "      <td>1</td>\n",
              "      <td>3</td>\n",
              "      <td>1</td>\n",
              "      <td>0</td>\n",
              "      <td>1</td>\n",
              "      <td>0</td>\n",
              "      <td>0</td>\n",
              "    </tr>\n",
              "    <tr>\n",
              "      <th>1</th>\n",
              "      <td>0</td>\n",
              "      <td>0</td>\n",
              "      <td>0</td>\n",
              "      <td>1</td>\n",
              "      <td>0</td>\n",
              "      <td>0</td>\n",
              "      <td>0</td>\n",
              "      <td>0</td>\n",
              "      <td>0</td>\n",
              "    </tr>\n",
              "    <tr>\n",
              "      <th>2</th>\n",
              "      <td>0</td>\n",
              "      <td>2</td>\n",
              "      <td>2</td>\n",
              "      <td>3</td>\n",
              "      <td>0</td>\n",
              "      <td>0</td>\n",
              "      <td>1</td>\n",
              "      <td>1</td>\n",
              "      <td>0</td>\n",
              "    </tr>\n",
              "    <tr>\n",
              "      <th>3</th>\n",
              "      <td>1</td>\n",
              "      <td>0</td>\n",
              "      <td>0</td>\n",
              "      <td>1</td>\n",
              "      <td>0</td>\n",
              "      <td>0</td>\n",
              "      <td>0</td>\n",
              "      <td>0</td>\n",
              "      <td>0</td>\n",
              "    </tr>\n",
              "    <tr>\n",
              "      <th>4</th>\n",
              "      <td>0</td>\n",
              "      <td>0</td>\n",
              "      <td>0</td>\n",
              "      <td>1</td>\n",
              "      <td>0</td>\n",
              "      <td>0</td>\n",
              "      <td>0</td>\n",
              "      <td>0</td>\n",
              "      <td>0</td>\n",
              "    </tr>\n",
              "  </tbody>\n",
              "</table>\n",
              "</div>"
            ],
            "text/plain": [
              "   Gender Age  Occupation  ...  Avg_Account_Balance Is_Active  Is_Lead\n",
              "0       0   3           1  ...                    1         0        0\n",
              "1       0   0           0  ...                    0         0        0\n",
              "2       0   2           2  ...                    1         1        0\n",
              "3       1   0           0  ...                    0         0        0\n",
              "4       0   0           0  ...                    0         0        0\n",
              "\n",
              "[5 rows x 9 columns]"
            ]
          },
          "metadata": {
            "tags": []
          },
          "execution_count": 96
        }
      ]
    },
    {
      "cell_type": "code",
      "metadata": {
        "id": "2XK85t3ac9OL"
      },
      "source": [
        "testDataset=testDataset.fillna(method = 'ffill')\n",
        "test_data = testDataset.copy()\n",
        "test_data.drop('Region_Code', axis=1, inplace = True)\n",
        "test_data.drop('ID', axis=1, inplace=True)"
      ],
      "execution_count": 97,
      "outputs": []
    },
    {
      "cell_type": "code",
      "metadata": {
        "colab": {
          "base_uri": "https://localhost:8080/",
          "height": 196
        },
        "id": "QPvk0yy2c9OL",
        "outputId": "5a68560f-5db0-4f67-9087-643169f7fc9f"
      },
      "source": [
        "leTest = LabelEncoder()\n",
        "test_data['Gender'] = leTest.fit_transform(test_data['Gender'])\n",
        "test_data['Credit_Product'] = leTest.fit_transform(test_data['Credit_Product'])\n",
        "test_data['Is_Active'] = leTest.fit_transform(test_data['Is_Active'])\n",
        "change = {'Other':1,'Self_Employed':2,'Entrepreneur':3,'Salaried':0}\n",
        "test_data.Occupation = test_data.Occupation.map(change)\n",
        "change = {'X1':1,'X2':2,'X3':3,'X4':0}\n",
        "test_data.Channel_Code = test_data.Channel_Code.map(change)\n",
        "test_data.head()"
      ],
      "execution_count": 98,
      "outputs": [
        {
          "output_type": "execute_result",
          "data": {
            "text/html": [
              "<div>\n",
              "<style scoped>\n",
              "    .dataframe tbody tr th:only-of-type {\n",
              "        vertical-align: middle;\n",
              "    }\n",
              "\n",
              "    .dataframe tbody tr th {\n",
              "        vertical-align: top;\n",
              "    }\n",
              "\n",
              "    .dataframe thead th {\n",
              "        text-align: right;\n",
              "    }\n",
              "</style>\n",
              "<table border=\"1\" class=\"dataframe\">\n",
              "  <thead>\n",
              "    <tr style=\"text-align: right;\">\n",
              "      <th></th>\n",
              "      <th>Gender</th>\n",
              "      <th>Age</th>\n",
              "      <th>Occupation</th>\n",
              "      <th>Channel_Code</th>\n",
              "      <th>Vintage</th>\n",
              "      <th>Credit_Product</th>\n",
              "      <th>Avg_Account_Balance</th>\n",
              "      <th>Is_Active</th>\n",
              "    </tr>\n",
              "  </thead>\n",
              "  <tbody>\n",
              "    <tr>\n",
              "      <th>0</th>\n",
              "      <td>1</td>\n",
              "      <td>29</td>\n",
              "      <td>1</td>\n",
              "      <td>1</td>\n",
              "      <td>25</td>\n",
              "      <td>1</td>\n",
              "      <td>742366</td>\n",
              "      <td>0</td>\n",
              "    </tr>\n",
              "    <tr>\n",
              "      <th>1</th>\n",
              "      <td>1</td>\n",
              "      <td>43</td>\n",
              "      <td>1</td>\n",
              "      <td>2</td>\n",
              "      <td>49</td>\n",
              "      <td>1</td>\n",
              "      <td>925537</td>\n",
              "      <td>0</td>\n",
              "    </tr>\n",
              "    <tr>\n",
              "      <th>2</th>\n",
              "      <td>1</td>\n",
              "      <td>31</td>\n",
              "      <td>0</td>\n",
              "      <td>1</td>\n",
              "      <td>14</td>\n",
              "      <td>0</td>\n",
              "      <td>215949</td>\n",
              "      <td>0</td>\n",
              "    </tr>\n",
              "    <tr>\n",
              "      <th>3</th>\n",
              "      <td>1</td>\n",
              "      <td>29</td>\n",
              "      <td>1</td>\n",
              "      <td>1</td>\n",
              "      <td>33</td>\n",
              "      <td>0</td>\n",
              "      <td>868070</td>\n",
              "      <td>0</td>\n",
              "    </tr>\n",
              "    <tr>\n",
              "      <th>4</th>\n",
              "      <td>0</td>\n",
              "      <td>29</td>\n",
              "      <td>1</td>\n",
              "      <td>1</td>\n",
              "      <td>19</td>\n",
              "      <td>0</td>\n",
              "      <td>657087</td>\n",
              "      <td>0</td>\n",
              "    </tr>\n",
              "  </tbody>\n",
              "</table>\n",
              "</div>"
            ],
            "text/plain": [
              "   Gender  Age  Occupation  ...  Credit_Product  Avg_Account_Balance  Is_Active\n",
              "0       1   29           1  ...               1               742366          0\n",
              "1       1   43           1  ...               1               925537          0\n",
              "2       1   31           0  ...               0               215949          0\n",
              "3       1   29           1  ...               0               868070          0\n",
              "4       0   29           1  ...               0               657087          0\n",
              "\n",
              "[5 rows x 8 columns]"
            ]
          },
          "metadata": {
            "tags": []
          },
          "execution_count": 98
        }
      ]
    },
    {
      "cell_type": "code",
      "metadata": {
        "colab": {
          "base_uri": "https://localhost:8080/",
          "height": 196
        },
        "id": "8ZI86cx-c9OM",
        "outputId": "e62652ac-1aa2-4755-a842-3e3ed30acbe1"
      },
      "source": [
        "bins = [0, 40, 65, 110, 150]\n",
        "labels = [0,1,2,3]\n",
        "test_data['Vintage'] = pd.cut(test_data['Vintage'], bins=bins, labels=labels)\n",
        "test_data.head()"
      ],
      "execution_count": 99,
      "outputs": [
        {
          "output_type": "execute_result",
          "data": {
            "text/html": [
              "<div>\n",
              "<style scoped>\n",
              "    .dataframe tbody tr th:only-of-type {\n",
              "        vertical-align: middle;\n",
              "    }\n",
              "\n",
              "    .dataframe tbody tr th {\n",
              "        vertical-align: top;\n",
              "    }\n",
              "\n",
              "    .dataframe thead th {\n",
              "        text-align: right;\n",
              "    }\n",
              "</style>\n",
              "<table border=\"1\" class=\"dataframe\">\n",
              "  <thead>\n",
              "    <tr style=\"text-align: right;\">\n",
              "      <th></th>\n",
              "      <th>Gender</th>\n",
              "      <th>Age</th>\n",
              "      <th>Occupation</th>\n",
              "      <th>Channel_Code</th>\n",
              "      <th>Vintage</th>\n",
              "      <th>Credit_Product</th>\n",
              "      <th>Avg_Account_Balance</th>\n",
              "      <th>Is_Active</th>\n",
              "    </tr>\n",
              "  </thead>\n",
              "  <tbody>\n",
              "    <tr>\n",
              "      <th>0</th>\n",
              "      <td>1</td>\n",
              "      <td>29</td>\n",
              "      <td>1</td>\n",
              "      <td>1</td>\n",
              "      <td>0</td>\n",
              "      <td>1</td>\n",
              "      <td>742366</td>\n",
              "      <td>0</td>\n",
              "    </tr>\n",
              "    <tr>\n",
              "      <th>1</th>\n",
              "      <td>1</td>\n",
              "      <td>43</td>\n",
              "      <td>1</td>\n",
              "      <td>2</td>\n",
              "      <td>1</td>\n",
              "      <td>1</td>\n",
              "      <td>925537</td>\n",
              "      <td>0</td>\n",
              "    </tr>\n",
              "    <tr>\n",
              "      <th>2</th>\n",
              "      <td>1</td>\n",
              "      <td>31</td>\n",
              "      <td>0</td>\n",
              "      <td>1</td>\n",
              "      <td>0</td>\n",
              "      <td>0</td>\n",
              "      <td>215949</td>\n",
              "      <td>0</td>\n",
              "    </tr>\n",
              "    <tr>\n",
              "      <th>3</th>\n",
              "      <td>1</td>\n",
              "      <td>29</td>\n",
              "      <td>1</td>\n",
              "      <td>1</td>\n",
              "      <td>0</td>\n",
              "      <td>0</td>\n",
              "      <td>868070</td>\n",
              "      <td>0</td>\n",
              "    </tr>\n",
              "    <tr>\n",
              "      <th>4</th>\n",
              "      <td>0</td>\n",
              "      <td>29</td>\n",
              "      <td>1</td>\n",
              "      <td>1</td>\n",
              "      <td>0</td>\n",
              "      <td>0</td>\n",
              "      <td>657087</td>\n",
              "      <td>0</td>\n",
              "    </tr>\n",
              "  </tbody>\n",
              "</table>\n",
              "</div>"
            ],
            "text/plain": [
              "   Gender  Age  Occupation  ...  Credit_Product Avg_Account_Balance  Is_Active\n",
              "0       1   29           1  ...               1              742366          0\n",
              "1       1   43           1  ...               1              925537          0\n",
              "2       1   31           0  ...               0              215949          0\n",
              "3       1   29           1  ...               0              868070          0\n",
              "4       0   29           1  ...               0              657087          0\n",
              "\n",
              "[5 rows x 8 columns]"
            ]
          },
          "metadata": {
            "tags": []
          },
          "execution_count": 99
        }
      ]
    },
    {
      "cell_type": "code",
      "metadata": {
        "colab": {
          "base_uri": "https://localhost:8080/",
          "height": 196
        },
        "id": "OFBswacvc9OM",
        "outputId": "3f670083-9a47-465a-e18c-27ce60fabc18"
      },
      "source": [
        "bins = [20, 38, 54, 70, 90]\n",
        "labels = [0,1,2,3]\n",
        "test_data['Age'] = pd.cut(test_data['Age'], bins=bins, labels=labels)\n",
        "test_data.head()"
      ],
      "execution_count": 100,
      "outputs": [
        {
          "output_type": "execute_result",
          "data": {
            "text/html": [
              "<div>\n",
              "<style scoped>\n",
              "    .dataframe tbody tr th:only-of-type {\n",
              "        vertical-align: middle;\n",
              "    }\n",
              "\n",
              "    .dataframe tbody tr th {\n",
              "        vertical-align: top;\n",
              "    }\n",
              "\n",
              "    .dataframe thead th {\n",
              "        text-align: right;\n",
              "    }\n",
              "</style>\n",
              "<table border=\"1\" class=\"dataframe\">\n",
              "  <thead>\n",
              "    <tr style=\"text-align: right;\">\n",
              "      <th></th>\n",
              "      <th>Gender</th>\n",
              "      <th>Age</th>\n",
              "      <th>Occupation</th>\n",
              "      <th>Channel_Code</th>\n",
              "      <th>Vintage</th>\n",
              "      <th>Credit_Product</th>\n",
              "      <th>Avg_Account_Balance</th>\n",
              "      <th>Is_Active</th>\n",
              "    </tr>\n",
              "  </thead>\n",
              "  <tbody>\n",
              "    <tr>\n",
              "      <th>0</th>\n",
              "      <td>1</td>\n",
              "      <td>0</td>\n",
              "      <td>1</td>\n",
              "      <td>1</td>\n",
              "      <td>0</td>\n",
              "      <td>1</td>\n",
              "      <td>742366</td>\n",
              "      <td>0</td>\n",
              "    </tr>\n",
              "    <tr>\n",
              "      <th>1</th>\n",
              "      <td>1</td>\n",
              "      <td>1</td>\n",
              "      <td>1</td>\n",
              "      <td>2</td>\n",
              "      <td>1</td>\n",
              "      <td>1</td>\n",
              "      <td>925537</td>\n",
              "      <td>0</td>\n",
              "    </tr>\n",
              "    <tr>\n",
              "      <th>2</th>\n",
              "      <td>1</td>\n",
              "      <td>0</td>\n",
              "      <td>0</td>\n",
              "      <td>1</td>\n",
              "      <td>0</td>\n",
              "      <td>0</td>\n",
              "      <td>215949</td>\n",
              "      <td>0</td>\n",
              "    </tr>\n",
              "    <tr>\n",
              "      <th>3</th>\n",
              "      <td>1</td>\n",
              "      <td>0</td>\n",
              "      <td>1</td>\n",
              "      <td>1</td>\n",
              "      <td>0</td>\n",
              "      <td>0</td>\n",
              "      <td>868070</td>\n",
              "      <td>0</td>\n",
              "    </tr>\n",
              "    <tr>\n",
              "      <th>4</th>\n",
              "      <td>0</td>\n",
              "      <td>0</td>\n",
              "      <td>1</td>\n",
              "      <td>1</td>\n",
              "      <td>0</td>\n",
              "      <td>0</td>\n",
              "      <td>657087</td>\n",
              "      <td>0</td>\n",
              "    </tr>\n",
              "  </tbody>\n",
              "</table>\n",
              "</div>"
            ],
            "text/plain": [
              "   Gender Age  Occupation  ...  Credit_Product Avg_Account_Balance  Is_Active\n",
              "0       1   0           1  ...               1              742366          0\n",
              "1       1   1           1  ...               1              925537          0\n",
              "2       1   0           0  ...               0              215949          0\n",
              "3       1   0           1  ...               0              868070          0\n",
              "4       0   0           1  ...               0              657087          0\n",
              "\n",
              "[5 rows x 8 columns]"
            ]
          },
          "metadata": {
            "tags": []
          },
          "execution_count": 100
        }
      ]
    },
    {
      "cell_type": "code",
      "metadata": {
        "colab": {
          "base_uri": "https://localhost:8080/",
          "height": 196
        },
        "id": "emm7M0zIc9OM",
        "outputId": "57a624b4-d387-40b5-d708-f5afcdc17b5f"
      },
      "source": [
        "bins = [0, 1000000, 2000000, 3000000, 20000000]\n",
        "labels = [0,1,2,3]\n",
        "test_data['Avg_Account_Balance'] = pd.cut(test_data['Avg_Account_Balance'], bins=bins, labels=labels)\n",
        "test_data.head()"
      ],
      "execution_count": 101,
      "outputs": [
        {
          "output_type": "execute_result",
          "data": {
            "text/html": [
              "<div>\n",
              "<style scoped>\n",
              "    .dataframe tbody tr th:only-of-type {\n",
              "        vertical-align: middle;\n",
              "    }\n",
              "\n",
              "    .dataframe tbody tr th {\n",
              "        vertical-align: top;\n",
              "    }\n",
              "\n",
              "    .dataframe thead th {\n",
              "        text-align: right;\n",
              "    }\n",
              "</style>\n",
              "<table border=\"1\" class=\"dataframe\">\n",
              "  <thead>\n",
              "    <tr style=\"text-align: right;\">\n",
              "      <th></th>\n",
              "      <th>Gender</th>\n",
              "      <th>Age</th>\n",
              "      <th>Occupation</th>\n",
              "      <th>Channel_Code</th>\n",
              "      <th>Vintage</th>\n",
              "      <th>Credit_Product</th>\n",
              "      <th>Avg_Account_Balance</th>\n",
              "      <th>Is_Active</th>\n",
              "    </tr>\n",
              "  </thead>\n",
              "  <tbody>\n",
              "    <tr>\n",
              "      <th>0</th>\n",
              "      <td>1</td>\n",
              "      <td>0</td>\n",
              "      <td>1</td>\n",
              "      <td>1</td>\n",
              "      <td>0</td>\n",
              "      <td>1</td>\n",
              "      <td>0</td>\n",
              "      <td>0</td>\n",
              "    </tr>\n",
              "    <tr>\n",
              "      <th>1</th>\n",
              "      <td>1</td>\n",
              "      <td>1</td>\n",
              "      <td>1</td>\n",
              "      <td>2</td>\n",
              "      <td>1</td>\n",
              "      <td>1</td>\n",
              "      <td>0</td>\n",
              "      <td>0</td>\n",
              "    </tr>\n",
              "    <tr>\n",
              "      <th>2</th>\n",
              "      <td>1</td>\n",
              "      <td>0</td>\n",
              "      <td>0</td>\n",
              "      <td>1</td>\n",
              "      <td>0</td>\n",
              "      <td>0</td>\n",
              "      <td>0</td>\n",
              "      <td>0</td>\n",
              "    </tr>\n",
              "    <tr>\n",
              "      <th>3</th>\n",
              "      <td>1</td>\n",
              "      <td>0</td>\n",
              "      <td>1</td>\n",
              "      <td>1</td>\n",
              "      <td>0</td>\n",
              "      <td>0</td>\n",
              "      <td>0</td>\n",
              "      <td>0</td>\n",
              "    </tr>\n",
              "    <tr>\n",
              "      <th>4</th>\n",
              "      <td>0</td>\n",
              "      <td>0</td>\n",
              "      <td>1</td>\n",
              "      <td>1</td>\n",
              "      <td>0</td>\n",
              "      <td>0</td>\n",
              "      <td>0</td>\n",
              "      <td>0</td>\n",
              "    </tr>\n",
              "  </tbody>\n",
              "</table>\n",
              "</div>"
            ],
            "text/plain": [
              "   Gender Age  Occupation  ...  Credit_Product Avg_Account_Balance  Is_Active\n",
              "0       1   0           1  ...               1                   0          0\n",
              "1       1   1           1  ...               1                   0          0\n",
              "2       1   0           0  ...               0                   0          0\n",
              "3       1   0           1  ...               0                   0          0\n",
              "4       0   0           1  ...               0                   0          0\n",
              "\n",
              "[5 rows x 8 columns]"
            ]
          },
          "metadata": {
            "tags": []
          },
          "execution_count": 101
        }
      ]
    },
    {
      "cell_type": "code",
      "metadata": {
        "id": "LqNjJFtjc9ON",
        "outputId": "b2306939-c2a7-4216-b92f-6e0f0f8e0db5"
      },
      "source": [
        ""
      ],
      "execution_count": null,
      "outputs": [
        {
          "output_type": "display_data",
          "data": {
            "image/png": "[encoded data removed]",
            "text/plain": [
              "<Figure size 432x288 with 1 Axes>"
            ]
          },
          "metadata": {
            "tags": []
          }
        }
      ]
    },
    {
      "cell_type": "code",
      "metadata": {
        "colab": {
          "base_uri": "https://localhost:8080/"
        },
        "id": "rh816YF2c9OO",
        "outputId": "568e0f9e-98b0-4840-c449-6beb65749a08"
      },
      "source": [
        "from sklearn.model_selection import train_test_split\n",
        "X = train_data.iloc[:,:-1].values\n",
        "y = train_data.iloc[:,-1].values\n",
        "X_train, X_test, y_train, y_test = train_test_split(X, y, test_size=0.2, random_state=0)\n",
        "print(\"shape of X_train\",X_train.shape)\n",
        "print(\"Shape of Y_train\",y_train.shape)\n",
        "print(\"Shape of x_test\",X_test.shape)"
      ],
      "execution_count": 55,
      "outputs": [
        {
          "output_type": "stream",
          "text": [
            "shape of X_train (196580, 8)\n",
            "Shape of Y_train (196580,)\n",
            "Shape of x_test (49145, 8)\n"
          ],
          "name": "stdout"
        }
      ]
    },
    {
      "cell_type": "code",
      "metadata": {
        "id": "jq34_D9ac9OO"
      },
      "source": [
        "import tensorflow as tf\n",
        "import keras \n",
        "from keras.layers import Dense, Dropout, Input\n",
        "from keras.models import Sequential"
      ],
      "execution_count": 56,
      "outputs": []
    },
    {
      "cell_type": "code",
      "metadata": {
        "id": "kq0wY7WFc9OO"
      },
      "source": [
        "model = Sequential()\n",
        "model.add(Dense(8, input_dim=8, activation='relu'))\n",
        "model.add(Dense(16, activation='relu'))\n",
        "model.add(Dense(32, activation='relu'))\n",
        "model.add(Dense(64, activation='relu'))\n",
        "model.add(Dense(32, activation='relu'))\n",
        "model.add(Dense(16, activation='relu'))\n",
        "model.add(Dense(8, activation='relu'))\n",
        "model.add(Dense(1, activation='sigmoid'))"
      ],
      "execution_count": 57,
      "outputs": []
    },
    {
      "cell_type": "code",
      "metadata": {
        "colab": {
          "base_uri": "https://localhost:8080/"
        },
        "id": "dn-hm6wOeW_M",
        "outputId": "3fb451b1-3d5f-4a8f-8eed-ce1ef5df22cd"
      },
      "source": [
        "model.summary()"
      ],
      "execution_count": 58,
      "outputs": [
        {
          "output_type": "stream",
          "text": [
            "Model: \"sequential_7\"\n",
            "_________________________________________________________________\n",
            "Layer (type)                 Output Shape              Param #   \n",
            "=================================================================\n",
            "dense_51 (Dense)             (None, 8)                 72        \n",
            "_________________________________________________________________\n",
            "dense_52 (Dense)             (None, 16)                144       \n",
            "_________________________________________________________________\n",
            "dense_53 (Dense)             (None, 32)                544       \n",
            "_________________________________________________________________\n",
            "dense_54 (Dense)             (None, 64)                2112      \n",
            "_________________________________________________________________\n",
            "dense_55 (Dense)             (None, 32)                2080      \n",
            "_________________________________________________________________\n",
            "dense_56 (Dense)             (None, 16)                528       \n",
            "_________________________________________________________________\n",
            "dense_57 (Dense)             (None, 8)                 136       \n",
            "_________________________________________________________________\n",
            "dense_58 (Dense)             (None, 1)                 9         \n",
            "=================================================================\n",
            "Total params: 5,625\n",
            "Trainable params: 5,625\n",
            "Non-trainable params: 0\n",
            "_________________________________________________________________\n"
          ],
          "name": "stdout"
        }
      ]
    },
    {
      "cell_type": "code",
      "metadata": {
        "colab": {
          "base_uri": "https://localhost:8080/"
        },
        "id": "DdHFfRQUebOS",
        "outputId": "51dd9439-53b9-46fc-ad31-81f7bf620672"
      },
      "source": [
        "model.compile(loss = tf.keras.losses.binary_crossentropy, optimizer = tf.keras.optimizers.SGD(), metrics = ['acc'])\n",
        "model.fit(X_train, y_train, batch_size = 36, verbose = 2, epochs = 100)"
      ],
      "execution_count": 60,
      "outputs": [
        {
          "output_type": "stream",
          "text": [
            "Epoch 1/100\n",
            "5461/5461 - 7s - loss: 0.4974 - acc: 0.7645\n",
            "Epoch 2/100\n",
            "5461/5461 - 6s - loss: 0.4729 - acc: 0.7697\n",
            "Epoch 3/100\n",
            "5461/5461 - 6s - loss: 0.4682 - acc: 0.7734\n",
            "Epoch 4/100\n",
            "5461/5461 - 6s - loss: 0.4627 - acc: 0.7787\n",
            "Epoch 5/100\n",
            "5461/5461 - 6s - loss: 0.4567 - acc: 0.7835\n",
            "Epoch 6/100\n",
            "5461/5461 - 6s - loss: 0.4519 - acc: 0.7861\n",
            "Epoch 7/100\n",
            "5461/5461 - 6s - loss: 0.4494 - acc: 0.7881\n",
            "Epoch 8/100\n",
            "5461/5461 - 6s - loss: 0.4475 - acc: 0.7879\n",
            "Epoch 9/100\n",
            "5461/5461 - 6s - loss: 0.4462 - acc: 0.7885\n",
            "Epoch 10/100\n",
            "5461/5461 - 6s - loss: 0.4451 - acc: 0.7896\n",
            "Epoch 11/100\n",
            "5461/5461 - 6s - loss: 0.4442 - acc: 0.7899\n",
            "Epoch 12/100\n",
            "5461/5461 - 6s - loss: 0.4436 - acc: 0.7902\n",
            "Epoch 13/100\n",
            "5461/5461 - 6s - loss: 0.4433 - acc: 0.7900\n",
            "Epoch 14/100\n",
            "5461/5461 - 6s - loss: 0.4427 - acc: 0.7897\n",
            "Epoch 15/100\n",
            "5461/5461 - 6s - loss: 0.4425 - acc: 0.7906\n",
            "Epoch 16/100\n",
            "5461/5461 - 6s - loss: 0.4421 - acc: 0.7914\n",
            "Epoch 17/100\n",
            "5461/5461 - 6s - loss: 0.4418 - acc: 0.7911\n",
            "Epoch 18/100\n",
            "5461/5461 - 6s - loss: 0.4416 - acc: 0.7915\n",
            "Epoch 19/100\n",
            "5461/5461 - 6s - loss: 0.4413 - acc: 0.7911\n",
            "Epoch 20/100\n",
            "5461/5461 - 6s - loss: 0.4410 - acc: 0.7914\n",
            "Epoch 21/100\n",
            "5461/5461 - 6s - loss: 0.4410 - acc: 0.7911\n",
            "Epoch 22/100\n",
            "5461/5461 - 6s - loss: 0.4407 - acc: 0.7914\n",
            "Epoch 23/100\n",
            "5461/5461 - 6s - loss: 0.4405 - acc: 0.7913\n",
            "Epoch 24/100\n",
            "5461/5461 - 6s - loss: 0.4404 - acc: 0.7917\n",
            "Epoch 25/100\n",
            "5461/5461 - 6s - loss: 0.4402 - acc: 0.7919\n",
            "Epoch 26/100\n",
            "5461/5461 - 6s - loss: 0.4400 - acc: 0.7920\n",
            "Epoch 27/100\n",
            "5461/5461 - 6s - loss: 0.4398 - acc: 0.7923\n",
            "Epoch 28/100\n",
            "5461/5461 - 6s - loss: 0.4396 - acc: 0.7923\n",
            "Epoch 29/100\n",
            "5461/5461 - 6s - loss: 0.4394 - acc: 0.7922\n",
            "Epoch 30/100\n",
            "5461/5461 - 6s - loss: 0.4393 - acc: 0.7928\n",
            "Epoch 31/100\n",
            "5461/5461 - 6s - loss: 0.4393 - acc: 0.7925\n",
            "Epoch 32/100\n",
            "5461/5461 - 6s - loss: 0.4391 - acc: 0.7925\n",
            "Epoch 33/100\n",
            "5461/5461 - 6s - loss: 0.4390 - acc: 0.7923\n",
            "Epoch 34/100\n",
            "5461/5461 - 6s - loss: 0.4389 - acc: 0.7930\n",
            "Epoch 35/100\n",
            "5461/5461 - 6s - loss: 0.4389 - acc: 0.7928\n",
            "Epoch 36/100\n",
            "5461/5461 - 6s - loss: 0.4389 - acc: 0.7924\n",
            "Epoch 37/100\n",
            "5461/5461 - 6s - loss: 0.4386 - acc: 0.7930\n",
            "Epoch 38/100\n",
            "5461/5461 - 6s - loss: 0.4386 - acc: 0.7929\n",
            "Epoch 39/100\n",
            "5461/5461 - 6s - loss: 0.4385 - acc: 0.7930\n",
            "Epoch 40/100\n",
            "5461/5461 - 6s - loss: 0.4384 - acc: 0.7934\n",
            "Epoch 41/100\n",
            "5461/5461 - 6s - loss: 0.4384 - acc: 0.7933\n",
            "Epoch 42/100\n",
            "5461/5461 - 6s - loss: 0.4383 - acc: 0.7927\n",
            "Epoch 43/100\n",
            "5461/5461 - 6s - loss: 0.4384 - acc: 0.7930\n",
            "Epoch 44/100\n",
            "5461/5461 - 6s - loss: 0.4382 - acc: 0.7930\n",
            "Epoch 45/100\n",
            "5461/5461 - 6s - loss: 0.4381 - acc: 0.7933\n",
            "Epoch 46/100\n",
            "5461/5461 - 6s - loss: 0.4381 - acc: 0.7934\n",
            "Epoch 47/100\n",
            "5461/5461 - 6s - loss: 0.4381 - acc: 0.7935\n",
            "Epoch 48/100\n",
            "5461/5461 - 6s - loss: 0.4381 - acc: 0.7931\n",
            "Epoch 49/100\n",
            "5461/5461 - 6s - loss: 0.4381 - acc: 0.7932\n",
            "Epoch 50/100\n",
            "5461/5461 - 6s - loss: 0.4379 - acc: 0.7929\n",
            "Epoch 51/100\n",
            "5461/5461 - 6s - loss: 0.4379 - acc: 0.7934\n",
            "Epoch 52/100\n",
            "5461/5461 - 6s - loss: 0.4379 - acc: 0.7935\n",
            "Epoch 53/100\n",
            "5461/5461 - 6s - loss: 0.4380 - acc: 0.7934\n",
            "Epoch 54/100\n",
            "5461/5461 - 6s - loss: 0.4378 - acc: 0.7934\n",
            "Epoch 55/100\n",
            "5461/5461 - 6s - loss: 0.4378 - acc: 0.7936\n",
            "Epoch 56/100\n",
            "5461/5461 - 6s - loss: 0.4378 - acc: 0.7937\n",
            "Epoch 57/100\n",
            "5461/5461 - 6s - loss: 0.4378 - acc: 0.7936\n",
            "Epoch 58/100\n",
            "5461/5461 - 6s - loss: 0.4377 - acc: 0.7938\n",
            "Epoch 59/100\n",
            "5461/5461 - 6s - loss: 0.4378 - acc: 0.7937\n",
            "Epoch 60/100\n",
            "5461/5461 - 6s - loss: 0.4376 - acc: 0.7940\n",
            "Epoch 61/100\n",
            "5461/5461 - 6s - loss: 0.4376 - acc: 0.7935\n",
            "Epoch 62/100\n",
            "5461/5461 - 6s - loss: 0.4375 - acc: 0.7935\n",
            "Epoch 63/100\n",
            "5461/5461 - 6s - loss: 0.4376 - acc: 0.7933\n",
            "Epoch 64/100\n",
            "5461/5461 - 6s - loss: 0.4375 - acc: 0.7937\n",
            "Epoch 65/100\n",
            "5461/5461 - 6s - loss: 0.4375 - acc: 0.7940\n",
            "Epoch 66/100\n",
            "5461/5461 - 6s - loss: 0.4375 - acc: 0.7936\n",
            "Epoch 67/100\n",
            "5461/5461 - 6s - loss: 0.4375 - acc: 0.7936\n",
            "Epoch 68/100\n",
            "5461/5461 - 6s - loss: 0.4375 - acc: 0.7936\n",
            "Epoch 69/100\n",
            "5461/5461 - 6s - loss: 0.4373 - acc: 0.7935\n",
            "Epoch 70/100\n",
            "5461/5461 - 6s - loss: 0.4373 - acc: 0.7937\n",
            "Epoch 71/100\n",
            "5461/5461 - 6s - loss: 0.4373 - acc: 0.7935\n",
            "Epoch 72/100\n",
            "5461/5461 - 6s - loss: 0.4373 - acc: 0.7941\n",
            "Epoch 73/100\n",
            "5461/5461 - 6s - loss: 0.4374 - acc: 0.7937\n",
            "Epoch 74/100\n",
            "5461/5461 - 6s - loss: 0.4373 - acc: 0.7935\n",
            "Epoch 75/100\n",
            "5461/5461 - 6s - loss: 0.4372 - acc: 0.7937\n",
            "Epoch 76/100\n",
            "5461/5461 - 6s - loss: 0.4373 - acc: 0.7940\n",
            "Epoch 77/100\n",
            "5461/5461 - 6s - loss: 0.4372 - acc: 0.7940\n",
            "Epoch 78/100\n",
            "5461/5461 - 6s - loss: 0.4372 - acc: 0.7936\n",
            "Epoch 79/100\n",
            "5461/5461 - 6s - loss: 0.4372 - acc: 0.7939\n",
            "Epoch 80/100\n",
            "5461/5461 - 6s - loss: 0.4371 - acc: 0.7939\n",
            "Epoch 81/100\n",
            "5461/5461 - 6s - loss: 0.4372 - acc: 0.7939\n",
            "Epoch 82/100\n",
            "5461/5461 - 6s - loss: 0.4371 - acc: 0.7936\n",
            "Epoch 83/100\n",
            "5461/5461 - 6s - loss: 0.4371 - acc: 0.7937\n",
            "Epoch 84/100\n",
            "5461/5461 - 6s - loss: 0.4371 - acc: 0.7937\n",
            "Epoch 85/100\n",
            "5461/5461 - 6s - loss: 0.4370 - acc: 0.7941\n",
            "Epoch 86/100\n",
            "5461/5461 - 6s - loss: 0.4371 - acc: 0.7939\n",
            "Epoch 87/100\n",
            "5461/5461 - 6s - loss: 0.4371 - acc: 0.7943\n",
            "Epoch 88/100\n",
            "5461/5461 - 6s - loss: 0.4371 - acc: 0.7941\n",
            "Epoch 89/100\n",
            "5461/5461 - 6s - loss: 0.4371 - acc: 0.7941\n",
            "Epoch 90/100\n",
            "5461/5461 - 6s - loss: 0.4370 - acc: 0.7943\n",
            "Epoch 91/100\n",
            "5461/5461 - 6s - loss: 0.4370 - acc: 0.7938\n",
            "Epoch 92/100\n",
            "5461/5461 - 6s - loss: 0.4370 - acc: 0.7939\n",
            "Epoch 93/100\n",
            "5461/5461 - 6s - loss: 0.4369 - acc: 0.7943\n",
            "Epoch 94/100\n",
            "5461/5461 - 6s - loss: 0.4370 - acc: 0.7943\n",
            "Epoch 95/100\n",
            "5461/5461 - 6s - loss: 0.4370 - acc: 0.7937\n",
            "Epoch 96/100\n",
            "5461/5461 - 6s - loss: 0.4370 - acc: 0.7940\n",
            "Epoch 97/100\n",
            "5461/5461 - 6s - loss: 0.4369 - acc: 0.7940\n",
            "Epoch 98/100\n",
            "5461/5461 - 6s - loss: 0.4369 - acc: 0.7936\n",
            "Epoch 99/100\n",
            "5461/5461 - 6s - loss: 0.4369 - acc: 0.7945\n",
            "Epoch 100/100\n",
            "5461/5461 - 6s - loss: 0.4369 - acc: 0.7939\n"
          ],
          "name": "stdout"
        },
        {
          "output_type": "execute_result",
          "data": {
            "text/plain": [
              "<keras.callbacks.History at 0x7f5e40784ed0>"
            ]
          },
          "metadata": {
            "tags": []
          },
          "execution_count": 60
        }
      ]
    },
    {
      "cell_type": "code",
      "metadata": {
        "colab": {
          "base_uri": "https://localhost:8080/"
        },
        "id": "z3t_yJUKehAN",
        "outputId": "38216af2-dec5-48ac-83c6-331fad64e7ad"
      },
      "source": [
        "predict = model.predict(X_test)\n",
        "predict = (predict > 0.5).astype(int).ravel()\n",
        "count=0\n",
        "for i in range (len(predict)):\n",
        "  if(predict[i] != y_test[i] ):\n",
        "    count = count+1\n",
        "print(\"total data :\", len(y_test), \"Unequal Data :\", count)"
      ],
      "execution_count": 62,
      "outputs": [
        {
          "output_type": "stream",
          "text": [
            "total data : 49145 Unequal Data : 10246\n"
          ],
          "name": "stdout"
        }
      ]
    },
    {
      "cell_type": "code",
      "metadata": {
        "colab": {
          "base_uri": "https://localhost:8080/"
        },
        "id": "K3A1d_d_1esZ",
        "outputId": "ed21b1d9-04c4-4ef4-d21b-268522588667"
      },
      "source": [
        "from sklearn import metrics\n",
        "Y_pred_rand = (model.predict(X_train) > 0.5).astype(int)\n",
        "print('Precision : ', np.round(metrics.precision_score(y_train, Y_pred_rand)*100,2))\n",
        "print('Accuracy : ', np.round(metrics.accuracy_score(y_train, Y_pred_rand)*100,2))\n",
        "print('Recall : ', np.round(metrics.recall_score(y_train, Y_pred_rand)*100,2))\n",
        "print('F1 score : ', np.round(metrics.f1_score(y_train, Y_pred_rand)*100,2))\n",
        "print('AUC : ', np.round(metrics.roc_auc_score(y_train, Y_pred_rand)*100,2))"
      ],
      "execution_count": 64,
      "outputs": [
        {
          "output_type": "stream",
          "text": [
            "Precision :  59.84\n",
            "Accuracy :  79.22\n",
            "Recall :  37.79\n",
            "F1 score :  46.33\n",
            "AUC :  64.95\n"
          ],
          "name": "stdout"
        }
      ]
    },
    {
      "cell_type": "code",
      "metadata": {
        "colab": {
          "base_uri": "https://localhost:8080/",
          "height": 196
        },
        "id": "zVwLncet4y0W",
        "outputId": "ed603f5c-e441-4f68-aad9-e580a185d669"
      },
      "source": [
        "test_data['Is_Lead'] = (model.predict(test_data) > 0.5).astype(int).ravel()\n",
        "test_data['ID'] = testDataset['ID']\n",
        "submission = test_data[['ID','Is_Lead']]\n",
        "submission.to_csv(\"submission.csv\", index=False)\n",
        "submission.tail()"
      ],
      "execution_count": 102,
      "outputs": [
        {
          "output_type": "execute_result",
          "data": {
            "text/html": [
              "<div>\n",
              "<style scoped>\n",
              "    .dataframe tbody tr th:only-of-type {\n",
              "        vertical-align: middle;\n",
              "    }\n",
              "\n",
              "    .dataframe tbody tr th {\n",
              "        vertical-align: top;\n",
              "    }\n",
              "\n",
              "    .dataframe thead th {\n",
              "        text-align: right;\n",
              "    }\n",
              "</style>\n",
              "<table border=\"1\" class=\"dataframe\">\n",
              "  <thead>\n",
              "    <tr style=\"text-align: right;\">\n",
              "      <th></th>\n",
              "      <th>ID</th>\n",
              "      <th>Is_Lead</th>\n",
              "    </tr>\n",
              "  </thead>\n",
              "  <tbody>\n",
              "    <tr>\n",
              "      <th>105307</th>\n",
              "      <td>DBENJOYI</td>\n",
              "      <td>1</td>\n",
              "    </tr>\n",
              "    <tr>\n",
              "      <th>105308</th>\n",
              "      <td>CWQ72DWS</td>\n",
              "      <td>1</td>\n",
              "    </tr>\n",
              "    <tr>\n",
              "      <th>105309</th>\n",
              "      <td>HDESC8GU</td>\n",
              "      <td>0</td>\n",
              "    </tr>\n",
              "    <tr>\n",
              "      <th>105310</th>\n",
              "      <td>2PW4SFCA</td>\n",
              "      <td>0</td>\n",
              "    </tr>\n",
              "    <tr>\n",
              "      <th>105311</th>\n",
              "      <td>F2NOYPPZ</td>\n",
              "      <td>0</td>\n",
              "    </tr>\n",
              "  </tbody>\n",
              "</table>\n",
              "</div>"
            ],
            "text/plain": [
              "              ID  Is_Lead\n",
              "105307  DBENJOYI        1\n",
              "105308  CWQ72DWS        1\n",
              "105309  HDESC8GU        0\n",
              "105310  2PW4SFCA        0\n",
              "105311  F2NOYPPZ        0"
            ]
          },
          "metadata": {
            "tags": []
          },
          "execution_count": 102
        }
      ]
    }
  ]
}